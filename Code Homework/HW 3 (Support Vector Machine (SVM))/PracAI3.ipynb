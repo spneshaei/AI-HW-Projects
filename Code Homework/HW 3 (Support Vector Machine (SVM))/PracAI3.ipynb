{
 "cells": [
  {
   "cell_type": "code",
   "execution_count": 6,
   "metadata": {},
   "outputs": [],
   "source": [
    "import numpy as np\n",
    "import matplotlib.pyplot as plt\n",
    "import sklearn\n",
    "from sklearn import datasets, svm\n",
    "from numpy import asarray\n",
    "from matplotlib import image\n",
    "from os import listdir"
   ]
  },
  {
   "cell_type": "code",
   "execution_count": 5,
   "metadata": {},
   "outputs": [],
   "source": [
    "data, targets = ([], [])\n",
    "for label in ['2', '3', '7', 'S', 'W']:\n",
    "    url = 'persian_LPR/' + label + '/'\n",
    "    for filename in listdir(url):\n",
    "        targets.append(label)\n",
    "        data.append(asarray(image.imread(url + filename)))\n",
    "data, targets = (np.array(data), np.array(targets))\n",
    "data = data / 255\n",
    "data_vector = data.reshape((len(data), -1))"
   ]
  },
  {
   "cell_type": "code",
   "execution_count": 8,
   "metadata": {},
   "outputs": [],
   "source": [
    "def run_rbf(input_data, input_targets, k = 2): # k-fold\n",
    "  classifier = sklearn.svm.SVC(kernel = 'rbf')\n",
    "  scores = sklearn.model_selection.cross_validate(classifier, input_data, input_targets, cv = k, scoring = 'accuracy', return_train_score = True, return_estimator = True)\n",
    "  index = np.argmax(scores[\"test_score\"])\n",
    "  print(\"Train score: \" + str(scores[\"train_score\"][index]))\n",
    "  print(\"Test score: \" + str(scores[\"test_score\"][index]))\n",
    "  return scores['estimator'][index]\n",
    "\n",
    "def run_linear(input_data, input_targets, k = 2): # k-fold\n",
    "  classifier = sklearn.svm.SVC(kernel = 'linear')\n",
    "  scores = sklearn.model_selection.cross_validate(classifier, input_data, input_targets, cv = k, scoring='accuracy', return_train_score=True, return_estimator = True)\n",
    "  index = np.argmax(scores[\"test_score\"])\n",
    "  print(\"Train score: \" + str(scores[\"train_score\"][index]))\n",
    "  print(\"Test score: \" + str(scores[\"test_score\"][index]))\n",
    "  return scores['estimator'][index]\n",
    "\n",
    "def run_polynomial(input_data, input_targets, degree, constant_coeff, k = 2): # k-fold\n",
    "  classifier = sklearn.svm.SVC(kernel = 'poly', degree = degree, coef0 = constant_coeff)\n",
    "  scores = sklearn.model_selection.cross_validate(classifier, input_data, input_targets, cv = k, scoring='accuracy', return_train_score=True, return_estimator = True)\n",
    "  index = np.argmax(scores[\"test_score\"])\n",
    "  print(\"Train score: \" + str(scores[\"train_score\"][index]))\n",
    "  print(\"Test score: \" + str(scores[\"test_score\"][index]))\n",
    "  return scores['estimator'][index]"
   ]
  },
  {
   "cell_type": "code",
   "execution_count": 9,
   "metadata": {},
   "outputs": [
    {
     "name": "stdout",
     "output_type": "stream",
     "text": [
      "Train score: 0.9746666666666667\n",
      "Test score: 0.9693333333333334\n"
     ]
    }
   ],
   "source": [
    "linear_classifier = run_linear(data_vector, targets)"
   ]
  },
  {
   "cell_type": "code",
   "execution_count": 10,
   "metadata": {},
   "outputs": [
    {
     "name": "stdout",
     "output_type": "stream",
     "text": [
      "Train score: 0.968\n",
      "Test score: 0.9533333333333334\n"
     ]
    }
   ],
   "source": [
    "rbf_classifier = run_rbf(data_vector, targets)"
   ]
  },
  {
   "cell_type": "code",
   "execution_count": 13,
   "metadata": {},
   "outputs": [
    {
     "name": "stdout",
     "output_type": "stream",
     "text": [
      "Train score: 0.9866666666666667\n",
      "Test score: 0.968\n"
     ]
    }
   ],
   "source": [
    "polynomial_classifier = run_polynomial(data_vector, targets, degree = 3, constant_coeff = 1)"
   ]
  },
  {
   "cell_type": "code",
   "execution_count": 30,
   "metadata": {},
   "outputs": [
    {
     "data": {
      "image/png": "[encoded data removed]",
      "text/plain": [
       "<Figure size 432x288 with 1 Axes>"
      ]
     },
     "metadata": {
      "needs_background": "light"
     },
     "output_type": "display_data"
    },
    {
     "name": "stdout",
     "output_type": "stream",
     "text": [
      "Real label: W\n",
      "Linear result: S\n",
      "RBF result: S\n",
      "Polynomial result: S\n"
     ]
    }
   ],
   "source": [
    "while True:\n",
    "    index = np.random.randint(0, len(data))\n",
    "    if targets[index] != linear_classifier.predict([data_vector[index]])[0] or targets[index] != rbf_classifier.predict([data_vector[index]])[0] or targets[index] != polynomial_classifier.predict([data_vector[index]])[0]:\n",
    "        plt.imshow(data[index], cmap = 'gray')\n",
    "        plt.show()\n",
    "        print(\"Real label: \" + str(targets[index]))\n",
    "        print(\"Linear result: \" + str(linear_classifier.predict([data_vector[index]])[0]))\n",
    "        print(\"RBF result: \" + str(rbf_classifier.predict([data_vector[index]])[0]))\n",
    "        print(\"Polynomial result: \" + str(polynomial_classifier.predict([data_vector[index]])[0]))\n",
    "        break"
   ]
  }
 ],
 "metadata": {
  "interpreter": {
   "hash": "aee8b7b246df8f9039afb4144a1f6fd8d2ca17a180786b69acc140d282b71a49"
  },
  "kernelspec": {
   "display_name": "Python 3.9.9 64-bit",
   "language": "python",
   "name": "python3"
  },
  "language_info": {
   "codemirror_mode": {
    "name": "ipython",
    "version": 3
   },
   "file_extension": ".py",
   "mimetype": "text/x-python",
   "name": "python",
   "nbconvert_exporter": "python",
   "pygments_lexer": "ipython3",
   "version": "3.9.9"
  },
  "orig_nbformat": 4
 },
 "nbformat": 4,
 "nbformat_minor": 2
}
